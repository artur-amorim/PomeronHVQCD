{
 "cells": [
  {
   "cell_type": "code",
   "execution_count": 1,
   "metadata": {},
   "outputs": [],
   "source": [
    "# import numpy, pandas and matplotlib.pyplot\n",
    "import numpy as np\n",
    "import pandas as pd\n",
    "import matplotlib.pyplot as plt\n",
    "# import minimize\n",
    "from scipy.optimize import minimize"
   ]
  },
  {
   "cell_type": "code",
   "execution_count": 2,
   "metadata": {},
   "outputs": [],
   "source": [
    "# Import the data\n",
    "data = pd.read_csv(\"SigmaProtonProton_data_W_lt_10000.txt\", sep = '\\t');\n",
    "# Drop some outliers and print data\n",
    "data = data.drop(3, axis=0);\n",
    "data = data.drop(33, axis=0);\n",
    "data = data.drop(95, axis=0);\n",
    "data = data.drop(96, axis=0); data\n",
    "data.to_csv(\"SigmaProtonProton_data_W_lt_10000_without_outliers.txt\", sep = '\\t', index = False)"
   ]
  },
  {
   "cell_type": "code",
   "execution_count": 3,
   "metadata": {},
   "outputs": [],
   "source": [
    "def plotSigma(data_list, data_list_labels):\n",
    "    \"\"\"\n",
    "        Makes a plot of the experimental points contained in data_list.\n",
    "        data_list is a list of pandas DataFrames.\n",
    "        Each DataFrame has the columns 'W(GeV)', 'WErrorp', 'WErrorm', 'sigma(mb)', 'Errorp', 'Errorm'\n",
    "        W(GeV) is the independent variable and sigma(mb) is the dependent variable\n",
    "        WErrorp and WErrorm specify the range of the independent variable.\n",
    "        Errorp and Errorm specify the range of the dependent variable.\n",
    "        data_list_labels: list of strings that specify the source of data in each DataFrame contained in data_list\n",
    "    \"\"\"\n",
    "    # n is the number of data_frames in data_list\n",
    "    n = len(data_list)\n",
    "    for i in range(n):\n",
    "        # For each dataset make the error bar plot\n",
    "        if (data_list_labels[i] == \"Pred\"):\n",
    "            plt.plot(data_list[i][\"W(GeV)\"], data_list[i][\"sigma(mb)\"], label = \"Pred\")\n",
    "        else:\n",
    "            plt.errorbar(data_list[i][\"W(GeV)\"], data_list[i][\"sigma(mb)\"], \n",
    "                     xerr = [data_list[i][\"WErrorm\"],data_list[i][\"WErrorp\"]],\n",
    "                     yerr = [data_list[i][\"Errorm\"],data_list[i][\"Errorp\"]],\n",
    "                     fmt='o',label = data_list_labels[i])\n",
    "    # Add labels\n",
    "    plt.xlabel(\"W(GeV)\")\n",
    "    plt.ylabel(r'$\\sigma(p p \\to hadrons)$(mb)')\n",
    "    plt.xscale(\"log\")\n",
    "    #plt.xlim(0,1000)\n",
    "    #plt.ylim(30,60)\n",
    "    plt.legend(loc = \"upper left\")\n",
    "    plt.show()  "
   ]
  },
  {
   "cell_type": "code",
   "execution_count": 4,
   "metadata": {},
   "outputs": [],
   "source": [
    "# Unvectorized version of sigmaHardPomeron\n",
    "def sigmaPredUnVec(W, a, b, c):\n",
    "    \"\"\"\n",
    "        The cross section is given by a s^(j0 - 1) + b * s^(j1 - 1) + c * s^(j2 -1),\n",
    "        where j0 = 1.4, j1 = 1.08 and j2 = 0.45 are the intercepts of the hard-pomeron,\n",
    "        soft-pomeron and rho meson trajectories. s = W^2\n",
    "    \"\"\"\n",
    "    # Define the intercepts of the Soft Pomeron Kernel\n",
    "    j0 = 1.36103 \n",
    "    j1 = 1.0808\n",
    "    j2 = 0.54763\n",
    "    # s = W^2\n",
    "    s = W ** 2\n",
    "    sigma = a * s ** (j0 - 1) + b * s ** (j1 -1) + c * s ** (j2 - 1)\n",
    "    #sigma = b * s ** (j1 -1) + c * s ** (j2 - 1)\n",
    "    return sigma\n",
    "\n",
    "# Vectorized version\n",
    "sigmaPred = np.vectorize(sigmaPredUnVec)"
   ]
  },
  {
   "cell_type": "code",
   "execution_count": 5,
   "metadata": {},
   "outputs": [
    {
     "data": {
      "image/png": "[encoded data removed]",
      "text/plain": [
       "<Figure size 432x288 with 1 Axes>"
      ]
     },
     "metadata": {
      "needs_background": "light"
     },
     "output_type": "display_data"
    }
   ],
   "source": [
    "plotSigma([data], [\"PDG\"])"
   ]
  },
  {
   "cell_type": "code",
   "execution_count": 6,
   "metadata": {},
   "outputs": [],
   "source": [
    "def chi2(x, data_frame):\n",
    "    \"\"\"\n",
    "        Computes the chi2 given data in data_frame and two parameters a and b\n",
    "        chi2 = sum (sigmaPred - sigmaExp)^2 / (sqrt(deltaSigmaExp**2 + deltaSigmaW**2))\n",
    "        where deltaSigmaW is the uncertainty due to the independent variable W\n",
    "        x = a, b, c\n",
    "    \"\"\"\n",
    "    a = x[0]\n",
    "    b = x[1]\n",
    "    c = x[2]\n",
    "    #j0 = x[3]\n",
    "    #j1 = x[2]\n",
    "    #j2 = x[3]\n",
    "    # Compute sigma using W as the central value\n",
    "    sigma_central = sigmaPred(data_frame[\"W(GeV)\"], a, b, c)\n",
    "    #sigma_central = sigmaPred(data_frame[\"W(GeV)\"], b, c)\n",
    "    # Compute sigma using W as the central values plus the positive error\n",
    "    sigma_plus = sigmaPred(data_frame[\"W(GeV)\"] + data_frame[\"WErrorp\"], a, b, c)\n",
    "    #sigma_plus = sigmaPred(data_frame[\"W(GeV)\"] + data_frame[\"WErrorp\"], b, c)\n",
    "    # Compute sigma using W as the central value minus the negative error\n",
    "    sigma_minus = sigmaPred(data_frame[\"W(GeV)\"] - data_frame[\"WErrorm\"], a, b, c)\n",
    "    #sigma_minus = sigmaPred(data_frame[\"W(GeV)\"] - data_frame[\"WErrorm\"], b, c)\n",
    "    deltaSigmaW = np.minimum(np.abs(sigma_plus - sigma_central),np.abs(sigma_central - sigma_minus))\n",
    "    deltaSigmaExp = np.maximum(data_frame[\"Errorp\"], data_frame[\"Errorm\"])\n",
    "    s = (sigma_central - data_frame[\"sigma(mb)\"])**2 / (deltaSigmaW ** 2 + deltaSigmaExp ** 2)\n",
    "    return np.sum(s)"
   ]
  },
  {
   "cell_type": "code",
   "execution_count": 7,
   "metadata": {},
   "outputs": [
    {
     "name": "stdout",
     "output_type": "stream",
     "text": [
      "Best fit parameters: a, b, c = 0.010224, 21.813334, 51.687708\n",
      "The chi2 / N.d.o.f =  1.2300884855913536\n"
     ]
    },
    {
     "data": {
      "image/png": "[encoded data removed]",
      "text/plain": [
       "<Figure size 432x288 with 1 Axes>"
      ]
     },
     "metadata": {
      "needs_background": "light"
     },
     "output_type": "display_data"
    }
   ],
   "source": [
    "# fit the model\n",
    "# Start the fit\n",
    "x0 = np.array([0.004531, 21.864026, 50.723341])\n",
    "best_fit_x = minimize(chi2, x0, args = data, method = \"Nelder-Mead\", tol = 1e-6).x\n",
    "print(\"Best fit parameters: a, b, c = %f, %f, %f\" % (best_fit_x[0], best_fit_x[1], best_fit_x[2]))\n",
    "chi2_ndof = chi2(best_fit_x, data) / (len(data) - len(best_fit_x))\n",
    "print(\"The chi2 / N.d.o.f = \", chi2_ndof)\n",
    "# Now we plot the prediction\n",
    "Ws = np.linspace(data[\"W(GeV)\"].min() - 1, data[\"W(GeV)\"].max() + 1, 10000)\n",
    "sigma = sigmaPred(Ws, best_fit_x[0], best_fit_x[1], best_fit_x[2])\n",
    "pred_df = pd.DataFrame({\"W(GeV)\":Ws, \"sigma(mb)\":sigma})\n",
    "plotSigma([data, pred_df], [\"PDG\", \"Pred\"])"
   ]
  },
  {
   "cell_type": "code",
   "execution_count": 8,
   "metadata": {},
   "outputs": [],
   "source": [
    "# Now let's analyse what are the points giving me trouble\n",
    "# We will identify them by computing the weighted square difference of each point\n",
    "a, b, c = best_fit_x[0], best_fit_x[1], best_fit_x[2]\n",
    "# Compute sigma using W as the central value\n",
    "sigma_central = sigmaPred(data[\"W(GeV)\"], a, b, c)\n",
    "# Compute sigma using W as the central values plus the positive error\n",
    "sigma_plus = sigmaPred(data[\"W(GeV)\"] + data[\"WErrorp\"], a, b, c)\n",
    "# Compute sigma using W as the central value minus the negative error\n",
    "sigma_minus = sigmaPred(data[\"W(GeV)\"] - data[\"WErrorm\"], a, b, c)\n",
    "deltaSigmaW = np.maximum(np.abs(sigma_plus - sigma_central),np.abs(sigma_central - sigma_minus))\n",
    "deltaSigmaExp = np.maximum(data[\"Errorp\"], data[\"Errorm\"])\n",
    "s = np.array((sigma_central - data[\"sigma(mb)\"])**2 / (deltaSigmaW ** 2 + deltaSigmaExp ** 2))"
   ]
  }
 ],
 "metadata": {
  "kernelspec": {
   "display_name": "Python 3",
   "language": "python",
   "name": "python3"
  },
  "language_info": {
   "codemirror_mode": {
    "name": "ipython",
    "version": 3
   },
   "file_extension": ".py",
   "mimetype": "text/x-python",
   "name": "python",
   "nbconvert_exporter": "python",
   "pygments_lexer": "ipython3",
   "version": "3.7.4"
  }
 },
 "nbformat": 4,
 "nbformat_minor": 2
}
