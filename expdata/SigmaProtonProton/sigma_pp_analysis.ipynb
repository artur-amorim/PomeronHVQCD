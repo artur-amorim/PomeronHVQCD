{
 "cells": [
  {
   "cell_type": "code",
   "execution_count": 1,
   "metadata": {},
   "outputs": [],
   "source": [
    "# import numpy, pandas and matplotlib.pyplot\n",
    "import numpy as np\n",
    "import pandas as pd\n",
    "import matplotlib.pyplot as plt\n",
    "# import minimize\n",
    "from scipy.optimize import minimize"
   ]
  },
  {
   "cell_type": "code",
   "execution_count": 2,
   "metadata": {},
   "outputs": [],
   "source": [
    "# Import the data\n",
    "data = pd.read_csv(\"SigmaProtonProton_data_W_lt_10000.txt\", sep = '\\t');\n",
    "# Drop some outliers and print data\n",
    "data = data.drop(3, axis=0);\n",
    "data = data.drop(33, axis=0);\n",
    "data = data.drop(95, axis=0);\n",
    "data = data.drop(96, axis=0); data\n",
    "data.to_csv(\"SigmaProtonProton_data_W_lt_10000_without_outliers.txt\", sep = '\\t', index = False)"
   ]
  },
  {
   "cell_type": "code",
   "execution_count": 3,
   "metadata": {},
   "outputs": [],
   "source": [
    "def plotSigma(data_list, data_list_labels):\n",
    "    \"\"\"\n",
    "        Makes a plot of the experimental points contained in data_list.\n",
    "        data_list is a list of pandas DataFrames.\n",
    "        Each DataFrame has the columns 'W(GeV)', 'WErrorp', 'WErrorm', 'sigma(mb)', 'Errorp', 'Errorm'\n",
    "        W(GeV) is the independent variable and sigma(mb) is the dependent variable\n",
    "        WErrorp and WErrorm specify the range of the independent variable.\n",
    "        Errorp and Errorm specify the range of the dependent variable.\n",
    "        data_list_labels: list of strings that specify the source of data in each DataFrame contained in data_list\n",
    "    \"\"\"\n",
    "    # n is the number of data_frames in data_list\n",
    "    n = len(data_list)\n",
    "    for i in range(n):\n",
    "        # For each dataset make the error bar plot\n",
    "        if (data_list_labels[i] == \"Pred\"):\n",
    "            plt.plot(data_list[i][\"W(GeV)\"], data_list[i][\"sigma(mb)\"], label = \"Pred\")\n",
    "        else:\n",
    "            plt.errorbar(data_list[i][\"W(GeV)\"], data_list[i][\"sigma(mb)\"], \n",
    "                     xerr = [data_list[i][\"WErrorm\"],data_list[i][\"WErrorp\"]],\n",
    "                     yerr = [data_list[i][\"Errorm\"],data_list[i][\"Errorp\"]],\n",
    "                     fmt='o',label = data_list_labels[i])\n",
    "    # Add labels\n",
    "    plt.xlabel(\"W(GeV)\")\n",
    "    plt.ylabel(r'$\\sigma(p p \\to hadrons)$(mb)')\n",
    "    plt.xscale(\"log\")\n",
    "    #plt.xlim(0,1000)\n",
    "    #plt.ylim(30,60)\n",
    "    plt.legend(loc = \"upper left\")\n",
    "    plt.show()  "
   ]
  },
  {
   "cell_type": "code",
   "execution_count": 4,
   "metadata": {},
   "outputs": [],
   "source": [
    "# Unvectorized version of sigmaHardPomeron\n",
    "def sigmaPredUnVec(W, a, b, c):\n",
    "    \"\"\"\n",
    "        The cross section is given by a s^(j0 - 1) + b * s^(j1 - 1) + c * s^(j2 -1),\n",
    "        where j0 = 1.4, j1 = 1.08 and j2 = 0.45 are the intercepts of the hard-pomeron,\n",
    "        soft-pomeron and rho meson trajectories. s = W^2\n",
    "    \"\"\"\n",
    "    # Define the intercepts of the Soft Pomeron Kernel\n",
    "    j0 = 1.20177 \n",
    "    j1 = 1.0808\n",
    "    j2 = 0.54763\n",
    "    # s = W^2\n",
    "    s = W ** 2\n",
    "    sigma = a * s ** (j0 - 1) + b * s ** (j1 -1) + c * s ** (j2 - 1)\n",
    "    #sigma = b * s ** (j1 -1) + c * s ** (j2 - 1)\n",
    "    return sigma\n",
    "\n",
    "# Vectorized version\n",
    "sigmaPred = np.vectorize(sigmaPredUnVec)"
   ]
  },
  {
   "cell_type": "code",
   "execution_count": 5,
   "metadata": {},
   "outputs": [
    {
     "data": {
      "image/png": "[encoded data removed]",
      "text/plain": [
       "<Figure size 432x288 with 1 Axes>"
      ]
     },
     "metadata": {
      "needs_background": "light"
     },
     "output_type": "display_data"
    }
   ],
   "source": [
    "plotSigma([data], [\"PDG\"])"
   ]
  },
  {
   "cell_type": "code",
   "execution_count": 6,
   "metadata": {},
   "outputs": [],
   "source": [
    "def chi2(x, data_frame):\n",
    "    \"\"\"\n",
    "        Computes the chi2 given data in data_frame and two parameters a and b\n",
    "        chi2 = sum (sigmaPred - sigmaExp)^2 / (sqrt(deltaSigmaExp**2 + deltaSigmaW**2))\n",
    "        where deltaSigmaW is the uncertainty due to the independent variable W\n",
    "        x = a, b, c\n",
    "    \"\"\"\n",
    "    a = x[0]\n",
    "    b = x[1]\n",
    "    c = x[2]\n",
    "    #j0 = x[3]\n",
    "    #j1 = x[2]\n",
    "    #j2 = x[3]\n",
    "    # Compute sigma using W as the central value\n",
    "    sigma_central = sigmaPred(data_frame[\"W(GeV)\"], a, b, c)\n",
    "    #sigma_central = sigmaPred(data_frame[\"W(GeV)\"], b, c)\n",
    "    # Compute sigma using W as the central values plus the positive error\n",
    "    sigma_plus = sigmaPred(data_frame[\"W(GeV)\"] + data_frame[\"WErrorp\"], a, b, c)\n",
    "    #sigma_plus = sigmaPred(data_frame[\"W(GeV)\"] + data_frame[\"WErrorp\"], b, c)\n",
    "    # Compute sigma using W as the central value minus the negative error\n",
    "    sigma_minus = sigmaPred(data_frame[\"W(GeV)\"] - data_frame[\"WErrorm\"], a, b, c)\n",
    "    #sigma_minus = sigmaPred(data_frame[\"W(GeV)\"] - data_frame[\"WErrorm\"], b, c)\n",
    "    deltaSigmaW = np.maximum(np.abs(sigma_plus - sigma_central),np.abs(sigma_central - sigma_minus))\n",
    "    deltaSigmaExp = np.maximum(data_frame[\"Errorp\"], data_frame[\"Errorm\"])\n",
    "    s = (sigma_central - data_frame[\"sigma(mb)\"])**2 / (deltaSigmaW ** 2 + deltaSigmaExp ** 2)\n",
    "    return np.sum(s)"
   ]
  },
  {
   "cell_type": "code",
   "execution_count": 7,
   "metadata": {},
   "outputs": [
    {
     "name": "stdout",
     "output_type": "stream",
     "text": [
      "Best fit parameters: a, b, c = 0.129602, 21.581592, 52.132424\n",
      "The chi2 / N.d.o.f =  1.3505032148957024\n"
     ]
    },
    {
     "data": {
      "image/png": "[encoded data removed]",
      "text/plain": [
       "<Figure size 432x288 with 1 Axes>"
      ]
     },
     "metadata": {
      "needs_background": "light"
     },
     "output_type": "display_data"
    }
   ],
   "source": [
    "# fit the model\n",
    "# Start the fit\n",
    "x0 = np.array([0.004531, 21.864026, 50.723341])\n",
    "best_fit_x = minimize(chi2, x0, args = data, method = \"Nelder-Mead\", tol = 1e-6).x\n",
    "print(\"Best fit parameters: a, b, c = %f, %f, %f\" % (best_fit_x[0], best_fit_x[1], best_fit_x[2]))\n",
    "chi2_ndof = chi2(best_fit_x, data) / (len(data) - len(best_fit_x))\n",
    "print(\"The chi2 / N.d.o.f = \", chi2_ndof)\n",
    "# Now we plot the prediction\n",
    "Ws = np.linspace(data[\"W(GeV)\"].min() - 1, data[\"W(GeV)\"].max() + 1, 10000)\n",
    "sigma = sigmaPred(Ws, best_fit_x[0], best_fit_x[1], best_fit_x[2])\n",
    "pred_df = pd.DataFrame({\"W(GeV)\":Ws, \"sigma(mb)\":sigma})\n",
    "plotSigma([data, pred_df], [\"PDG\", \"Pred\"])"
   ]
  },
  {
   "cell_type": "code",
   "execution_count": 8,
   "metadata": {},
   "outputs": [],
   "source": [
    "# Now let's analyse what are the points giving me trouble\n",
    "# We will identify them by computing the weighted square difference of each point\n",
    "a, b, c = best_fit_x[0], best_fit_x[1], best_fit_x[2]\n",
    "# Compute sigma using W as the central value\n",
    "sigma_central = sigmaPred(data[\"W(GeV)\"], a, b, c)\n",
    "# Compute sigma using W as the central values plus the positive error\n",
    "sigma_plus = sigmaPred(data[\"W(GeV)\"] + data[\"WErrorp\"], a, b, c)\n",
    "# Compute sigma using W as the central value minus the negative error\n",
    "sigma_minus = sigmaPred(data[\"W(GeV)\"] - data[\"WErrorm\"], a, b, c)\n",
    "deltaSigmaW = np.maximum(np.abs(sigma_plus - sigma_central),np.abs(sigma_central - sigma_minus))\n",
    "deltaSigmaExp = np.maximum(data[\"Errorp\"], data[\"Errorm\"])\n",
    "s = np.array((sigma_central - data[\"sigma(mb)\"])**2 / (deltaSigmaW ** 2 + deltaSigmaExp ** 2))"
   ]
  },
  {
   "cell_type": "code",
   "execution_count": 9,
   "metadata": {},
   "outputs": [
    {
     "name": "stdout",
     "output_type": "stream",
     "text": [
      "0 4.541003713019177 0.0005799001576264946\n",
      "1 4.561524361695703 11.687329224695347\n",
      "2 4.933594808950319 2.2544253473591076\n",
      "3 5.008847073058475 0.8420480850034565\n",
      "4 5.2992991555432996 1.7219913306151577\n",
      "5 5.473084495570892 8.339524491118041\n",
      "6 5.60826852368765 0.469599502152767\n",
      "7 5.641562249152131 1.95758342598797\n",
      "8 5.917050115585947 0.024089266871995\n",
      "9 5.964352987850237 1.0408594931952966\n",
      "10 6.1697194312744275 1.592272257618577\n",
      "11 6.180340126336555 0.08128910886971623\n",
      "12 6.240684749179929 1.102268905047427\n",
      "13 6.270640319534308 1.2896941205930201\n",
      "14 6.270640319534308 0.5791438285172842\n",
      "15 6.270640319534308 3.5901069133269234\n",
      "16 6.47646775793454 0.04523497225904089\n",
      "17 6.56271165873575 1.0490766391230812\n",
      "18 6.7039954822401056 0.954937833980714\n",
      "19 6.7735362184720405 0.27376011232979613\n",
      "20 6.842372550122322 0.038823534139243915\n",
      "21 6.8697145679511555 0.01230727096612727\n",
      "22 6.910525386758789 0.32072644564993374\n",
      "23 6.978014627168357 0.005856821962618344\n",
      "24 7.1662288284533355 0.05210074008359564\n",
      "25 7.420723665226951 0.7145994228635173\n",
      "26 7.620183138804998 0.023081700553974172\n",
      "27 7.620183138804998 0.002954760456080397\n",
      "28 7.874324897873214 0.018094208360514744\n",
      "29 8.212384768550965 0.26029669735380706\n",
      "30 8.212384768550965 0.18507590213113714\n",
      "31 8.76472004721975 1.3222319187413403\n",
      "32 9.028239269672099 4.322055527139302\n",
      "33 9.28428919560808 1.668084426881314\n",
      "34 9.776307709019632 2.572207092721106\n",
      "35 9.776307709019632 0.10832456138568414\n",
      "36 9.776307709019632 0.0012165501408496252\n",
      "37 9.776307709019632 2.0813933162286427\n",
      "38 9.776307709019632 0.11901645713199215\n",
      "39 9.985123782284214 4.734319194012428\n",
      "40 10.244739735520179 2.6024311601074452\n",
      "41 10.692681705456692 3.072890467617402\n",
      "42 11.122606896082079 6.799270125210944\n",
      "43 11.454939904919245 7.104898878766975\n",
      "44 11.536527960370002 1.385894111740156\n",
      "45 11.777423331885082 0.19924436685050878\n",
      "46 13.623791187366313 0.28310495239015493\n",
      "47 13.761102454207487 0.08087098897917266\n",
      "48 13.761102454207487 2.5869447028234016\n",
      "49 13.761102454207487 0.8522930772152063\n",
      "50 13.896754259300096 0.7328436636241431\n",
      "51 15.062754241579395 2.631257551196557\n",
      "52 15.186562495918153 1.430036261065816\n",
      "53 16.659281926304363 0.6448571820835002\n",
      "54 16.6594508368527 0.0020344794618122742\n",
      "55 16.82751288527292 1.184764286927734\n",
      "56 16.82751288527292 0.26446432980202716\n",
      "57 17.907667146552093 1.2798381522192037\n",
      "58 18.011986701500767 1.2787535953047315\n",
      "59 18.167674697934405 0.3217825548685995\n",
      "60 19.221229869761828 0.06873834401866483\n",
      "61 19.415555991154672 0.7093877446858242\n",
      "62 19.415555991154672 0.07455286495719052\n",
      "63 19.655628043939934 0.015262279830741967\n",
      "64 21.26036515938739 0.8054839203435988\n",
      "65 22.957409162819964 0.30554813312275964\n",
      "66 23.49660806746931 1.0941685350381452\n",
      "67 23.49660806746931 0.000321731386235499\n",
      "68 23.49660806746931 0.48142417185251446\n",
      "69 23.49660806746931 5.863779677375905\n",
      "70 23.49660806746931 0.5212449336750758\n",
      "71 23.596593673866234 1.0560713546293201\n",
      "72 23.760522699893688 0.06374406403080457\n",
      "73 23.760522699893688 5.063167719110121\n",
      "74 23.878660174619256 0.21049692236908377\n",
      "75 24.152067204103922 0.3013093194352527\n",
      "76 25.290356172456125 0.037883211641099236\n",
      "77 26.379573888140268 0.05039557886453737\n",
      "78 27.596045473208555 0.2695423455848815\n",
      "79 30.5955887439932 0.6157517167332346\n",
      "80 30.5955887439932 2.176940598784831\n",
      "81 30.5955887439932 1.37067513574925\n",
      "82 30.5955887439932 1.7484495765151222\n",
      "83 30.5955887439932 0.054843483619507284\n",
      "84 30.595802122650944 0.5161643629835718\n",
      "85 30.69557572344225 2.2628372874630047\n",
      "86 30.79555940880413 0.4768985133881813\n",
      "87 35.19492921339282 0.8605057458837029\n",
      "88 44.69283319323125 1.3018232333703894\n",
      "89 44.69356334924007 1.1419982212611803\n",
      "90 44.893535976917285 0.5064890318958388\n",
      "91 45.19349293880148 0.12766796501291156\n",
      "92 52.7923970195484 0.02507145605620525\n",
      "93 52.7923970195484 0.23263958779717386\n",
      "94 52.7923970195484 0.9535366613776519\n",
      "95 52.89199482735803 2.741394633806999\n",
      "96 53.19234073941078 0.07674739927049752\n",
      "97 62.291030875055725 2.0049359325950844\n",
      "98 62.3920816670216 5.2395044481856266\n",
      "99 62.49100501227944 0.003146260089255987\n",
      "100 62.69097686203887 0.49770159468108816\n",
      "101 62.69097686203887 8.138997486506675\n",
      "102 62.79096096496027 0.002656362689024708\n",
      "103 62.9909331501793 0.2862603240585564\n",
      "104 86.44068425953466 0.22772700366054385\n",
      "105 136.98042112110258 0.03538434874483078\n",
      "106 193.4824636220615 0.0679443313767619\n",
      "107 273.29301437958344 0.013371069242935397\n",
      "108 386.0285840408341 0.1872560761097402\n",
      "109 6163.217488658014 0.00016515813233483435\n",
      "110 6999.008054717468 1.5342130255528548\n",
      "111 6999.008054717468 2.660408362598988\n",
      "112 6999.008054717468 1.4976490460997347\n",
      "113 7998.694018400754 2.428815264550605\n",
      "114 8124.58848188633 0.0502103145419736\n"
     ]
    }
   ],
   "source": [
    "Ws = np.array(data[\"W(GeV)\"])\n",
    "for i, w, sigma in zip(range(len(data)),Ws, s):\n",
    "    print(i, w, sigma)"
   ]
  },
  {
   "cell_type": "code",
   "execution_count": 10,
   "metadata": {},
   "outputs": [
    {
     "data": {
      "text/plain": [
       "array([ 7.10489888,  8.13899749,  8.33952449, 11.68732922])"
      ]
     },
     "execution_count": 10,
     "metadata": {},
     "output_type": "execute_result"
    }
   ],
   "source": [
    "s.sort(); s[-4:]"
   ]
  },
  {
   "cell_type": "code",
   "execution_count": null,
   "metadata": {},
   "outputs": [],
   "source": []
  }
 ],
 "metadata": {
  "kernelspec": {
   "display_name": "Python 3",
   "language": "python",
   "name": "python3"
  },
  "language_info": {
   "codemirror_mode": {
    "name": "ipython",
    "version": 3
   },
   "file_extension": ".py",
   "mimetype": "text/x-python",
   "name": "python",
   "nbconvert_exporter": "python",
   "pygments_lexer": "ipython3",
   "version": "3.7.4"
  }
 },
 "nbformat": 4,
 "nbformat_minor": 2
}
