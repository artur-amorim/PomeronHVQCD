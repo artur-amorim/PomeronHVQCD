{
 "cells": [
  {
   "cell_type": "code",
   "execution_count": 1,
   "metadata": {},
   "outputs": [],
   "source": [
    "# import numpy, pandas and matplotlib.pyplot\n",
    "import numpy as np\n",
    "import pandas as pd\n",
    "import matplotlib.pyplot as plt\n",
    "# import minimize\n",
    "from scipy.optimize import minimize"
   ]
  },
  {
   "cell_type": "code",
   "execution_count": 2,
   "metadata": {},
   "outputs": [],
   "source": [
    "# Import the data\n",
    "data = pd.read_csv(\"SigmaProtonProton_data_W_lt_10000.txt\", sep = '\\t');\n",
    "# Drop some outliers and print data\n",
    "data = data.drop(3, axis=0);\n",
    "data = data.drop(33, axis=0);\n",
    "data = data.drop(95, axis=0);\n",
    "data = data.drop(96, axis=0); data\n",
    "data.to_csv(\"SigmaProtonProton_data_W_lt_10000_without_outliers.txt\", sep = '\\t', index = False)"
   ]
  },
  {
   "cell_type": "code",
   "execution_count": 3,
   "metadata": {},
   "outputs": [],
   "source": [
    "def plotSigma(data_list, data_list_labels):\n",
    "    \"\"\"\n",
    "        Makes a plot of the experimental points contained in data_list.\n",
    "        data_list is a list of pandas DataFrames.\n",
    "        Each DataFrame has the columns 'W(GeV)', 'WErrorp', 'WErrorm', 'sigma(mb)', 'Errorp', 'Errorm'\n",
    "        W(GeV) is the independent variable and sigma(mb) is the dependent variable\n",
    "        WErrorp and WErrorm specify the range of the independent variable.\n",
    "        Errorp and Errorm specify the range of the dependent variable.\n",
    "        data_list_labels: list of strings that specify the source of data in each DataFrame contained in data_list\n",
    "    \"\"\"\n",
    "    # n is the number of data_frames in data_list\n",
    "    n = len(data_list)\n",
    "    for i in range(n):\n",
    "        # For each dataset make the error bar plot\n",
    "        if (data_list_labels[i] == \"Pred\"):\n",
    "            plt.plot(data_list[i][\"W(GeV)\"], data_list[i][\"sigma(mb)\"], label = \"Pred\")\n",
    "        else:\n",
    "            plt.errorbar(data_list[i][\"W(GeV)\"], data_list[i][\"sigma(mb)\"], \n",
    "                     xerr = [data_list[i][\"WErrorm\"],data_list[i][\"WErrorp\"]],\n",
    "                     yerr = [data_list[i][\"Errorm\"],data_list[i][\"Errorp\"]],\n",
    "                     fmt='o',label = data_list_labels[i])\n",
    "    # Add labels\n",
    "    plt.xlabel(\"W(GeV)\")\n",
    "    plt.ylabel(r'$\\sigma(p p \\to hadrons)$(mb)')\n",
    "    plt.xscale(\"log\")\n",
    "    #plt.xlim(0,1000)\n",
    "    #plt.ylim(30,60)\n",
    "    plt.legend(loc = \"upper left\")\n",
    "    plt.show()  "
   ]
  },
  {
   "cell_type": "code",
   "execution_count": 4,
   "metadata": {},
   "outputs": [],
   "source": [
    "# Unvectorized version of sigmaHardPomeron\n",
    "def sigmaPredUnVec(W, a, b, c):\n",
    "    \"\"\"\n",
    "        The cross section is given by a s^(j0 - 1) + b * s^(j1 - 1) + c * s^(j2 -1),\n",
    "        where j0 = 1.4, j1 = 1.08 and j2 = 0.45 are the intercepts of the hard-pomeron,\n",
    "        soft-pomeron and rho meson trajectories. s = W^2\n",
    "    \"\"\"\n",
    "    # Define the intercepts of the Soft Pomeron Kernel\n",
    "    j0 = 1.36103 \n",
    "    j1 = 1.0808\n",
    "    j2 = 0.54763\n",
    "    # s = W^2\n",
    "    s = W ** 2\n",
    "    sigma = a * s ** (j0 - 1) + b * s ** (j1 -1) + c * s ** (j2 - 1)\n",
    "    #sigma = b * s ** (j1 -1) + c * s ** (j2 - 1)\n",
    "    return sigma\n",
    "\n",
    "# Vectorized version\n",
    "sigmaPred = np.vectorize(sigmaPredUnVec)"
   ]
  },
  {
   "cell_type": "code",
   "execution_count": 5,
   "metadata": {},
   "outputs": [
    {
     "data": {
      "image/png": "[encoded data removed]",
      "text/plain": [
       "<Figure size 432x288 with 1 Axes>"
      ]
     },
     "metadata": {
      "needs_background": "light"
     },
     "output_type": "display_data"
    }
   ],
   "source": [
    "plotSigma([data], [\"PDG\"])"
   ]
  },
  {
   "cell_type": "code",
   "execution_count": 6,
   "metadata": {},
   "outputs": [],
   "source": [
    "def chi2(x, data_frame):\n",
    "    \"\"\"\n",
    "        Computes the chi2 given data in data_frame and two parameters a and b\n",
    "        chi2 = sum (sigmaPred - sigmaExp)^2 / (sqrt(deltaSigmaExp**2 + deltaSigmaW**2))\n",
    "        where deltaSigmaW is the uncertainty due to the independent variable W\n",
    "        x = a, b, c\n",
    "    \"\"\"\n",
    "    a = x[0]\n",
    "    b = x[1]\n",
    "    c = x[2]\n",
    "    #j0 = x[3]\n",
    "    #j1 = x[2]\n",
    "    #j2 = x[3]\n",
    "    # Compute sigma using W as the central value\n",
    "    sigma_central = sigmaPred(data_frame[\"W(GeV)\"], a, b, c)\n",
    "    #sigma_central = sigmaPred(data_frame[\"W(GeV)\"], b, c)\n",
    "    # Compute sigma using W as the central values plus the positive error\n",
    "    sigma_plus = sigmaPred(data_frame[\"W(GeV)\"] + data_frame[\"WErrorp\"], a, b, c)\n",
    "    #sigma_plus = sigmaPred(data_frame[\"W(GeV)\"] + data_frame[\"WErrorp\"], b, c)\n",
    "    # Compute sigma using W as the central value minus the negative error\n",
    "    sigma_minus = sigmaPred(data_frame[\"W(GeV)\"] - data_frame[\"WErrorm\"], a, b, c)\n",
    "    #sigma_minus = sigmaPred(data_frame[\"W(GeV)\"] - data_frame[\"WErrorm\"], b, c)\n",
    "    deltaSigmaW = np.maximum(np.abs(sigma_plus - sigma_central),np.abs(sigma_central - sigma_minus))\n",
    "    deltaSigmaExp = np.maximum(data_frame[\"Errorp\"], data_frame[\"Errorm\"])\n",
    "    s = (sigma_central - data_frame[\"sigma(mb)\"])**2 / (deltaSigmaW ** 2 + deltaSigmaExp ** 2)\n",
    "    return np.sum(s)"
   ]
  },
  {
   "cell_type": "code",
   "execution_count": 7,
   "metadata": {},
   "outputs": [
    {
     "name": "stdout",
     "output_type": "stream",
     "text": [
      "Best fit parameters: a, b, c = 0.010225, 21.813326, 51.687785\n",
      "The chi2 / N.d.o.f =  1.2299591284993456\n"
     ]
    },
    {
     "data": {
      "image/png": "[encoded data removed]",
      "text/plain": [
       "<Figure size 432x288 with 1 Axes>"
      ]
     },
     "metadata": {
      "needs_background": "light"
     },
     "output_type": "display_data"
    }
   ],
   "source": [
    "# fit the model\n",
    "# Start the fit\n",
    "x0 = np.array([0.004531, 21.864026, 50.723341])\n",
    "best_fit_x = minimize(chi2, x0, args = data, method = \"Nelder-Mead\", tol = 1e-6).x\n",
    "print(\"Best fit parameters: a, b, c = %f, %f, %f\" % (best_fit_x[0], best_fit_x[1], best_fit_x[2]))\n",
    "chi2_ndof = chi2(best_fit_x, data) / (len(data) - len(best_fit_x))\n",
    "print(\"The chi2 / N.d.o.f = \", chi2_ndof)\n",
    "# Now we plot the prediction\n",
    "Ws = np.linspace(data[\"W(GeV)\"].min() - 1, data[\"W(GeV)\"].max() + 1, 10000)\n",
    "sigma = sigmaPred(Ws, best_fit_x[0], best_fit_x[1], best_fit_x[2])\n",
    "pred_df = pd.DataFrame({\"W(GeV)\":Ws, \"sigma(mb)\":sigma})\n",
    "plotSigma([data, pred_df], [\"PDG\", \"Pred\"])"
   ]
  },
  {
   "cell_type": "code",
   "execution_count": 8,
   "metadata": {},
   "outputs": [],
   "source": [
    "# Now let's analyse what are the points giving me trouble\n",
    "# We will identify them by computing the weighted square difference of each point\n",
    "a, b, c = best_fit_x[0], best_fit_x[1], best_fit_x[2]\n",
    "# Compute sigma using W as the central value\n",
    "sigma_central = sigmaPred(data[\"W(GeV)\"], a, b, c)\n",
    "# Compute sigma using W as the central values plus the positive error\n",
    "sigma_plus = sigmaPred(data[\"W(GeV)\"] + data[\"WErrorp\"], a, b, c)\n",
    "# Compute sigma using W as the central value minus the negative error\n",
    "sigma_minus = sigmaPred(data[\"W(GeV)\"] - data[\"WErrorm\"], a, b, c)\n",
    "deltaSigmaW = np.maximum(np.abs(sigma_plus - sigma_central),np.abs(sigma_central - sigma_minus))\n",
    "deltaSigmaExp = np.maximum(data[\"Errorp\"], data[\"Errorm\"])\n",
    "s = np.array((sigma_central - data[\"sigma(mb)\"])**2 / (deltaSigmaW ** 2 + deltaSigmaExp ** 2))"
   ]
  },
  {
   "cell_type": "code",
   "execution_count": 9,
   "metadata": {},
   "outputs": [
    {
     "name": "stdout",
     "output_type": "stream",
     "text": [
      "0 4.541003713019177 0.0015204407439946437\n",
      "1 4.561524361695703 11.124293145607624\n",
      "2 4.933594808950319 2.1743358588319532\n",
      "3 5.008847073058475 0.8199343119686134\n",
      "4 5.2992991555432996 1.6681692126927914\n",
      "5 5.473084495570892 7.964578756967467\n",
      "6 5.60826852368765 0.45913885691994427\n",
      "7 5.641562249152131 1.9137682085265968\n",
      "8 5.917050115585947 0.025945502937489217\n",
      "9 5.964352987850237 1.0170284797632445\n",
      "10 6.1697194312744275 1.5355489295203868\n",
      "11 6.180340126336555 0.0838681967175935\n",
      "12 6.240684749179929 1.0803991562177602\n",
      "13 6.270640319534308 1.2705152717518375\n",
      "14 6.270640319534308 0.5332374793043481\n",
      "15 6.270640319534308 3.4701423196185837\n",
      "16 6.47646775793454 0.04656736847327187\n",
      "17 6.56271165873575 1.0373399033408086\n",
      "18 6.7039954822401056 0.9691623165995232\n",
      "19 6.7735362184720405 0.2757528873823969\n",
      "20 6.842372550122322 0.04915095130207291\n",
      "21 6.8697145679511555 0.011968877693796164\n",
      "22 6.910525386758789 0.3237021413270534\n",
      "23 6.978014627168357 0.004576408188489973\n",
      "24 7.1662288284533355 0.05333910717985676\n",
      "25 7.420723665226951 0.714260824449287\n",
      "26 7.620183138804998 0.021349235483017197\n",
      "27 7.620183138804998 0.0036430992704423225\n",
      "28 7.874324897873214 0.019029661820637676\n",
      "29 8.212384768550965 0.24419646302245068\n",
      "30 8.212384768550965 0.16880607770517705\n",
      "31 8.76472004721975 1.2692968696885303\n",
      "32 9.028239269672099 4.090279402941528\n",
      "33 9.28428919560808 1.5954238267936127\n",
      "34 9.776307709019632 2.4701701501880686\n",
      "35 9.776307709019632 0.08417662024686245\n",
      "36 9.776307709019632 0.004321861864441595\n",
      "37 9.776307709019632 1.9868653885311394\n",
      "38 9.776307709019632 0.12271050688470886\n",
      "39 9.985123782284214 4.973554078478748\n",
      "40 10.244739735520179 2.4915029875231074\n",
      "41 10.692681705456692 2.9461369783900517\n",
      "42 11.122606896082079 6.62141456921958\n",
      "43 11.454939904919245 7.180130355620359\n",
      "44 11.536527960370002 1.2768640639123585\n",
      "45 11.777423331885082 0.20530377347025142\n",
      "46 13.623791187366313 0.2899532333100734\n",
      "47 13.761102454207487 0.07857975600338064\n",
      "48 13.761102454207487 2.445806466167472\n",
      "49 13.761102454207487 0.7886008585948132\n",
      "50 13.896754259300096 0.7179350168304589\n",
      "51 15.062754241579395 2.5056496967435438\n",
      "52 15.186562495918153 1.4432611980312982\n",
      "53 16.659281926304363 0.6518934417194858\n",
      "54 16.6594508368527 0.002863476256165459\n",
      "55 16.82751288527292 1.1214352241168781\n",
      "56 16.82751288527292 0.24103054870808435\n",
      "57 17.907667146552093 1.2293573173722858\n",
      "58 18.011986701500767 1.2858646345689908\n",
      "59 18.167674697934405 0.31944932670180576\n",
      "60 19.221229869761828 0.06967626669746\n",
      "61 19.415555991154672 0.6891868076501506\n",
      "62 19.415555991154672 0.06942771159894659\n",
      "63 19.655628043939934 0.01485306837335503\n",
      "64 21.26036515938739 0.8081261294839723\n",
      "65 22.957409162819964 0.3215435946272378\n",
      "66 23.49660806746931 1.121126429669803\n",
      "67 23.49660806746931 6.325352593239766e-05\n",
      "68 23.49660806746931 0.4710089905287014\n",
      "69 23.49660806746931 5.8059015662140565\n",
      "70 23.49660806746931 0.5150850109725232\n",
      "71 23.596593673866234 1.0469306674567678\n",
      "72 23.760522699893688 0.061932307007160424\n",
      "73 23.760522699893688 5.0904259265811564\n",
      "74 23.878660174619256 0.207322648313777\n",
      "75 24.152067204103922 0.3265467752393976\n",
      "76 25.290356172456125 0.050559138210436075\n",
      "77 26.379573888140268 0.03445044081352564\n",
      "78 27.596045473208555 0.27662625243194816\n",
      "79 30.5955887439932 0.5316841509889003\n",
      "80 30.5955887439932 1.994995958997037\n",
      "81 30.5955887439932 1.3035059970676615\n",
      "82 30.5955887439932 1.6203853157371368\n",
      "83 30.5955887439932 0.04812893097964601\n",
      "84 30.595802122650944 0.4744971987630079\n",
      "85 30.69557572344225 2.0864279069915037\n",
      "86 30.79555940880413 0.4494805964664416\n",
      "87 35.19492921339282 0.8094241260322058\n",
      "88 44.69283319323125 1.1487246856671856\n",
      "89 44.69356334924007 0.9088288893229969\n",
      "90 44.893535976917285 0.4136608543217058\n",
      "91 45.19349293880148 0.15408384122336657\n",
      "92 52.7923970195484 0.0005771248433824328\n",
      "93 52.7923970195484 0.15810382692770875\n",
      "94 52.7923970195484 0.7660636243295225\n",
      "95 52.89199482735803 2.4551924664881652\n",
      "96 53.19234073941078 0.0510305237685283\n",
      "97 62.291030875055725 1.6413531980825893\n",
      "98 62.3920816670216 4.753622308327437\n",
      "99 62.49100501227944 0.0017215302106376776\n",
      "100 62.69097686203887 0.3224529057063289\n",
      "101 62.69097686203887 7.49578357870504\n",
      "102 62.79096096496027 0.010040589880155184\n",
      "103 62.9909331501793 0.2729806369304187\n",
      "104 86.44068425953466 0.21941498953587052\n",
      "105 136.98042112110258 0.031371115259994545\n",
      "106 193.4824636220615 0.07428462072248011\n",
      "107 273.29301437958344 0.015860990860098897\n",
      "108 386.0285840408341 0.18014351962506464\n",
      "109 6163.217488658014 0.018735963184317334\n",
      "110 6999.008054717468 0.11987212871577933\n",
      "111 6999.008054717468 0.29691126265760875\n",
      "112 6999.008054717468 0.06617568242097623\n",
      "113 7998.694018400754 0.35195470209949803\n",
      "114 8124.58848188633 0.0020525844834024896\n"
     ]
    }
   ],
   "source": [
    "Ws = np.array(data[\"W(GeV)\"])\n",
    "for i, w, sigma in zip(range(len(data)),Ws, s):\n",
    "    print(i, w, sigma)"
   ]
  },
  {
   "cell_type": "code",
   "execution_count": 10,
   "metadata": {},
   "outputs": [
    {
     "data": {
      "text/plain": [
       "array([ 7.18013036,  7.49578358,  7.96457876, 11.12429315])"
      ]
     },
     "execution_count": 10,
     "metadata": {},
     "output_type": "execute_result"
    }
   ],
   "source": [
    "s.sort(); s[-4:]"
   ]
  },
  {
   "cell_type": "code",
   "execution_count": null,
   "metadata": {},
   "outputs": [],
   "source": []
  }
 ],
 "metadata": {
  "kernelspec": {
   "display_name": "Python 3",
   "language": "python",
   "name": "python3"
  },
  "language_info": {
   "codemirror_mode": {
    "name": "ipython",
    "version": 3
   },
   "file_extension": ".py",
   "mimetype": "text/x-python",
   "name": "python",
   "nbconvert_exporter": "python",
   "pygments_lexer": "ipython3",
   "version": "3.7.4"
  }
 },
 "nbformat": 4,
 "nbformat_minor": 2
}
