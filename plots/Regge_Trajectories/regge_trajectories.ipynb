{
 "cells": [
  {
   "cell_type": "code",
   "execution_count": 1,
   "metadata": {},
   "outputs": [],
   "source": [
    "#import numpy, pandas and pyplot\n",
    "import pandas as pd\n",
    "import numpy as np\n",
    "import matplotlib.pyplot as plt"
   ]
  },
  {
   "cell_type": "code",
   "execution_count": 2,
   "metadata": {},
   "outputs": [],
   "source": [
    "# Meson masses\n",
    "m_f2 = 1.2755; m_a2 = 1.3169; m_rho3 = 1.6888; m_omega3 = 1.667; m_f4 = 2.018; m_a4 = 1.967;\n",
    "# Meson Regge trajectory scattering data\n",
    "regge_scattering_data = pd.read_csv(\"meson_trajectory_exp.txt\",sep='\\t')\n",
    "ts = -np.array(regge_scattering_data[\"-t\"])\n",
    "delta_ts = np.array(regge_scattering_data[\"deltaT\"])\n",
    "alphas = np.array(regge_scattering_data[\"alpha\"])\n",
    "delta_alphas = np.array(regge_scattering_data[\"deltaAlpha\"])\n",
    "\n",
    "def plot_regge_trajectories(gluon_data, meson_data, n_gluon, n_meson, label = \"\"):\n",
    "    \"\"\"\n",
    "        Plots the Regge trajectories present in the data frames\n",
    "        gluon data and meson data. The number of trajectories\n",
    "        to plot can be changed by the parameters n_gluon and n_meson.\n",
    "        n_gluon and n_meson can not exceed the number of trajectories\n",
    "        in the Pandas DataFrame objects gluon_data and meson_data.\n",
    "        We assume the data frames have the following columns\n",
    "        j t1(j) t2(j) ... tn(j) where n is the number of trajectories in the data.\n",
    "    \"\"\"\n",
    "    n_gluon_trajs = len(gluon_data.columns) - 1\n",
    "    n_meson_trajs = len(meson_data.columns) - 1\n",
    "    plt.title(\"Regge trajectories \" + label)\n",
    "    plt.xlabel(r't ($\\rm{GeV}^2$)')\n",
    "    plt.xlim(-1, 6)\n",
    "    plt.ylabel(\"j(t)\")\n",
    "    plt.axhline(y=0, color='k')\n",
    "    plt.axvline(x=0, color='k')\n",
    "    plt.grid(True, which='both')\n",
    "    # Plot the gluon Regge trajectories\n",
    "    for i in range(n_gluon):\n",
    "        plt.plot(gluon_data[\"t\"+str(i+1)+\"(j)\"], gluon_data.j, label = \"gluon n = \" + str(i+1))\n",
    "    # Plot the meson Regge trajectories\n",
    "    for i in range(n_meson):\n",
    "        plt.plot(meson_data[\"t\"+str(i+1)+\"(j)\"], meson_data.j, label = \"meson n = \" + str(i+1))\n",
    "    # plot the meson points\n",
    "    if n_meson > 0:\n",
    "        plt.plot(m_f2**2, 2, 'kx')\n",
    "        plt.plot(m_a2**2, 2, 'kx')\n",
    "        plt.plot(m_rho3**2, 3, 'kx')\n",
    "        plt.plot(m_omega3**2, 3, 'kx')\n",
    "        plt.plot(m_f4**2, 4, 'kx')\n",
    "        plt.plot(m_a4**2, 4, 'kx')\n",
    "        plt.errorbar(ts, alphas, xerr = delta_ts, yerr = delta_alphas)\n",
    "    # Show and save the plots\n",
    "    plt.legend()\n",
    "    plt.savefig(\"regge_trajectories_\"+label+\".pdf\")\n",
    "    plt.show()"
   ]
  },
  {
   "cell_type": "code",
   "execution_count": 3,
   "metadata": {},
   "outputs": [],
   "source": [
    "# Regge trajectory data for the Kernel Fixed fits\n",
    "regge_trajectories_As_gluons = pd.read_csv('regge_trajectories_KernelFixed_As_gluon.txt', sep = '\\t')\n",
    "regge_trajectories_As_mesons = pd.read_csv('regge_trajectories_KernelFixed_As_meson.txt', sep = '\\t')\n",
    "regge_trajectories_Bs_gluons = pd.read_csv('regge_trajectories_KernelFixed_Bs_gluon.txt', sep = '\\t')\n",
    "regge_trajectories_Bs_mesons = pd.read_csv('regge_trajectories_KernelFixed_Bs_meson.txt', sep = '\\t')\n",
    "regge_trajectories_Cs_gluons = pd.read_csv('regge_trajectories_KernelFixed_Cs_gluon.txt', sep = '\\t')\n",
    "regge_trajectories_Cs_mesons = pd.read_csv('regge_trajectories_KernelFixed_Cs_meson.txt', sep = '\\t')\n",
    "regge_trajectories_Ds_gluons = pd.read_csv('regge_trajectories_KernelFixed_Ds_gluon.txt', sep = '\\t')\n",
    "regge_trajectories_Ds_mesons = pd.read_csv('regge_trajectories_KernelFixed_Ds_meson.txt', sep = '\\t')\n",
    "regge_trajectories_Es_gluons = pd.read_csv('regge_trajectories_KernelFixed_Es_gluon.txt', sep = '\\t')\n",
    "regge_trajectories_Es_mesons = pd.read_csv('regge_trajectories_KernelFixed_Es_meson.txt', sep = '\\t')"
   ]
  },
  {
   "cell_type": "code",
   "execution_count": null,
   "metadata": {},
   "outputs": [
    {
     "data": {
      "image/png": "[encoded data removed]",
      "text/plain": [
       "<Figure size 432x288 with 1 Axes>"
      ]
     },
     "metadata": {
      "needs_background": "light"
     },
     "output_type": "display_data"
    }
   ],
   "source": [
    "# Plot 2 gluon trajectories and 1 reggeon trajectory\n",
    "plot_regge_trajectories(regge_trajectories_As_gluons, regge_trajectories_As_mesons, 2, 1, label = \"As\")\n",
    "plot_regge_trajectories(regge_trajectories_Bs_gluons, regge_trajectories_Bs_mesons, 2, 1, label = \"Bs\")\n",
    "plot_regge_trajectories(regge_trajectories_Cs_gluons, regge_trajectories_Cs_mesons, 2, 1, label = \"Cs\")\n",
    "plot_regge_trajectories(regge_trajectories_Ds_gluons, regge_trajectories_Ds_mesons, 2, 1, label = \"Ds\")\n",
    "plot_regge_trajectories(regge_trajectories_Es_gluons, regge_trajectories_Es_mesons, 2, 1, label = \"Es\")"
   ]
  },
  {
   "cell_type": "code",
   "execution_count": null,
   "metadata": {},
   "outputs": [],
   "source": [
    "# Plot 4 gluon trajectories and 1 reggeon trajectory\n",
    "plot_regge_trajectories(regge_trajectories_As_gluons, regge_trajectories_As_mesons, 4, 0, label = \"gluons_As\")\n",
    "plot_regge_trajectories(regge_trajectories_Bs_gluons, regge_trajectories_Bs_mesons, 4, 0, label = \"gluons_Bs\")\n",
    "plot_regge_trajectories(regge_trajectories_Cs_gluons, regge_trajectories_Cs_mesons, 4, 0, label = \"gluons_Cs\")\n",
    "plot_regge_trajectories(regge_trajectories_Ds_gluons, regge_trajectories_Ds_mesons, 4, 0, label = \"gluons_Ds\")\n",
    "plot_regge_trajectories(regge_trajectories_Es_gluons, regge_trajectories_Es_mesons, 4, 0, label = \"gluons_Es\")"
   ]
  }
 ],
 "metadata": {
  "kernelspec": {
   "display_name": "Python 3",
   "language": "python",
   "name": "python3"
  },
  "language_info": {
   "codemirror_mode": {
    "name": "ipython",
    "version": 3
   },
   "file_extension": ".py",
   "mimetype": "text/x-python",
   "name": "python",
   "nbconvert_exporter": "python",
   "pygments_lexer": "ipython3",
   "version": "3.7.4"
  }
 },
 "nbformat": 4,
 "nbformat_minor": 2
}
